{
 "cells": [
  {
   "cell_type": "code",
   "execution_count": 1,
   "id": "0150d383",
   "metadata": {},
   "outputs": [],
   "source": [
    "using Distributions\n",
    "using Statistics\n",
    "using DataFrames\n",
    "using CSV #change to DelimitedFiles usage later"
   ]
  },
  {
   "cell_type": "code",
   "execution_count": 2,
   "id": "e1702050",
   "metadata": {},
   "outputs": [
    {
     "data": {
      "text/html": [
       "<div class=\"data-frame\"><p>10 rows × 4 columns</p><table class=\"data-frame\"><thead><tr><th></th><th>RNA</th><th>gene_type</th><th>zscore</th><th>chP</th></tr><tr><th></th><th title=\"String31\">String31</th><th title=\"String\">String</th><th title=\"Float64\">Float64</th><th title=\"Float64\">Float64</th></tr></thead><tbody><tr><th>1</th><td>ZMIZ1</td><td>protein_coding</td><td>1.55229</td><td>1.99568</td></tr><tr><th>2</th><td>MFSD14B</td><td>protein_coding</td><td>-0.0219071</td><td>0.253634</td></tr><tr><th>3</th><td>MTR</td><td>protein_coding</td><td>0.262814</td><td>0.568714</td></tr><tr><th>4</th><td>TIRAP</td><td>protein_coding</td><td>0.188857</td><td>0.48687</td></tr><tr><th>5</th><td>LMBR1</td><td>protein_coding</td><td>0.931878</td><td>1.30912</td></tr><tr><th>6</th><td>STEAP1B</td><td>protein_coding</td><td>-1.50231</td><td>-1.38462</td></tr><tr><th>7</th><td>KDM7A</td><td>protein_coding</td><td>0.272723</td><td>0.579679</td></tr><tr><th>8</th><td>LINC01811</td><td>lncRNA</td><td>0.557746</td><td>0.895093</td></tr><tr><th>9</th><td>ZNF318</td><td>protein_coding</td><td>-0.843082</td><td>-0.655099</td></tr><tr><th>10</th><td>RPS6</td><td>protein_coding</td><td>-2.55322</td><td>-2.54758</td></tr></tbody></table></div>"
      ],
      "text/latex": [
       "\\begin{tabular}{r|cccc}\n",
       "\t& RNA & gene\\_type & zscore & chP\\\\\n",
       "\t\\hline\n",
       "\t& String31 & String & Float64 & Float64\\\\\n",
       "\t\\hline\n",
       "\t1 & ZMIZ1 & protein\\_coding & 1.55229 & 1.99568 \\\\\n",
       "\t2 & MFSD14B & protein\\_coding & -0.0219071 & 0.253634 \\\\\n",
       "\t3 & MTR & protein\\_coding & 0.262814 & 0.568714 \\\\\n",
       "\t4 & TIRAP & protein\\_coding & 0.188857 & 0.48687 \\\\\n",
       "\t5 & LMBR1 & protein\\_coding & 0.931878 & 1.30912 \\\\\n",
       "\t6 & STEAP1B & protein\\_coding & -1.50231 & -1.38462 \\\\\n",
       "\t7 & KDM7A & protein\\_coding & 0.272723 & 0.579679 \\\\\n",
       "\t8 & LINC01811 & lncRNA & 0.557746 & 0.895093 \\\\\n",
       "\t9 & ZNF318 & protein\\_coding & -0.843082 & -0.655099 \\\\\n",
       "\t10 & RPS6 & protein\\_coding & -2.55322 & -2.54758 \\\\\n",
       "\\end{tabular}\n"
      ],
      "text/plain": [
       "\u001b[1m10×4 SubDataFrame\u001b[0m\n",
       "\u001b[1m Row \u001b[0m│\u001b[1m RNA       \u001b[0m\u001b[1m gene_type      \u001b[0m\u001b[1m zscore     \u001b[0m\u001b[1m chP       \u001b[0m\n",
       "\u001b[1m     \u001b[0m│\u001b[90m String31  \u001b[0m\u001b[90m String         \u001b[0m\u001b[90m Float64    \u001b[0m\u001b[90m Float64   \u001b[0m\n",
       "─────┼──────────────────────────────────────────────────\n",
       "   1 │ ZMIZ1      protein_coding   1.55229     1.99568\n",
       "   2 │ MFSD14B    protein_coding  -0.0219071   0.253634\n",
       "   3 │ MTR        protein_coding   0.262814    0.568714\n",
       "   4 │ TIRAP      protein_coding   0.188857    0.48687\n",
       "   5 │ LMBR1      protein_coding   0.931878    1.30912\n",
       "   6 │ STEAP1B    protein_coding  -1.50231    -1.38462\n",
       "   7 │ KDM7A      protein_coding   0.272723    0.579679\n",
       "   8 │ LINC01811  lncRNA           0.557746    0.895093\n",
       "   9 │ ZNF318     protein_coding  -0.843082   -0.655099\n",
       "  10 │ RPS6       protein_coding  -2.55322    -2.54758"
      ]
     },
     "execution_count": 2,
     "metadata": {},
     "output_type": "execute_result"
    }
   ],
   "source": [
    "frip = DataFrame(CSV.File(\"clean_fRIP.txt\"))\n",
    "redc = DataFrame(CSV.File(\"K562.pvalue.tab\"))[:, [\"gene_name_un\",\"gene_type\",\"zscore\", \"chP\"]]\n",
    "final = innerjoin(frip, redc, on = :RNA => :gene_name_un)\n",
    "@view final[1:10, [1,26,27,28]]"
   ]
  },
  {
   "cell_type": "code",
   "execution_count": 3,
   "id": "f2ced009",
   "metadata": {},
   "outputs": [
    {
     "data": {
      "text/plain": [
       "prot_threshold (generic function with 1 method)"
      ]
     },
     "execution_count": 3,
     "metadata": {},
     "output_type": "execute_result"
    }
   ],
   "source": [
    "function get_thr_gamma(sample, scl, shp)\n",
    "    s = sort(sample, rev = true)\n",
    "    thr2pk = Dict{Float64, Float64}()\n",
    "    for i in range(1, length(s))\n",
    "        pki = 1 - cdf(Gamma(scl, shp), s[i])\n",
    "        qki = 1 - pki\n",
    "        p = 0\n",
    "        for j in range(i, length(s))\n",
    "            addition = pdf(Binomial(length(s), pki), j)\n",
    "            p += addition\n",
    "        end\n",
    "        thr2pk[s[i]] = p\n",
    "    end\n",
    "    return thr2pk\n",
    "end\n",
    "\n",
    "function prot_threshold(name)\n",
    "    vect = final[(final[!, name] .< 1) .& (final.gene_type .== \"protein_coding\"), :][!, name]\n",
    "    scl, shp = var(vect)/mean(vect), mean(vect)^2/var(vect)\n",
    "    vect = final[(final[!, name] .< 10), :][!, name]\n",
    "    cur_thr = get_thr_gamma(vect, scl ,shp)\n",
    "    return sort(DataFrame(thr = collect(keys(cur_thr)), p = collect(values(cur_thr))), \n",
    "        [:p, order(:thr, rev = true)])[1,1]\n",
    "end"
   ]
  },
  {
   "cell_type": "code",
   "execution_count": 4,
   "id": "a8c9c10f",
   "metadata": {
    "collapsed": true
   },
   "outputs": [
    {
     "data": {
      "text/plain": [
       "Dict{String, Float64} with 24 entries:\n",
       "  \"rbbp5\"  => 1.44599\n",
       "  \"suz12\"  => 1.34986\n",
       "  \"cbx3\"   => 1.65439\n",
       "  \"wdr5\"   => 1.39616\n",
       "  \"lsd1\"   => 0.976197\n",
       "  \"imp1\"   => 1.16915\n",
       "  \"dnmt1\"  => 1.51324\n",
       "  \"hnrnph\" => 3.08671\n",
       "  \"hnrnpu\" => 2.61515\n",
       "  \"phf8\"   => 1.54915\n",
       "  \"nup98\"  => 1.16873\n",
       "  \"chd7\"   => 1.18982\n",
       "  \"pcaf\"   => 1.08796\n",
       "  \"pcbx\"   => 1.32141\n",
       "  \"chd4\"   => 1.14525\n",
       "  \"stag2\"  => 1.69785\n",
       "  \"adar\"   => 7.22305\n",
       "  \"hur\"    => 1.54382\n",
       "  \"hdac1\"  => 1.74062\n",
       "  \"ctcf\"   => 1.32479\n",
       "  \"ezh2\"   => 1.45841\n",
       "  \"chd1\"   => 1.22795\n",
       "  \"cbp\"    => 1.22172\n",
       "  \"pabp\"   => 1.02727"
      ]
     },
     "execution_count": 4,
     "metadata": {},
     "output_type": "execute_result"
    }
   ],
   "source": [
    "#collect protein thresholds\n",
    "prot_thr = Dict{String, Float64}()\n",
    "for name in names(final[:, 2:25])\n",
    "    prot_thr[name] = prot_threshold(name)\n",
    "end\n",
    "prot_thr"
   ]
  },
  {
   "cell_type": "code",
   "execution_count": 7,
   "id": "21e5bc16",
   "metadata": {
    "collapsed": true
   },
   "outputs": [
    {
     "data": {
      "text/plain": [
       "1.09531969444167"
      ]
     },
     "execution_count": 7,
     "metadata": {},
     "output_type": "execute_result"
    }
   ],
   "source": [
    "# collect zscore threshold\n",
    "bg_zscore = final[(final.gene_type .== \"protein_coding\") .& (final.zscore .< 3), :].zscore\n",
    "test = map(x -> x + 3, bg_zscore)\n",
    "test = test[test .> 0]\n",
    "scl, shp = var(test)/mean(test), mean(test)^2/var(test)\n",
    "zscr_gshift = fit(Gamma, test[test .!= 0])\n",
    "t2 = get_thr_gamma(final.zscore, scl, shp)\n",
    "zs_thr = sort(DataFrame(thr = collect(keys(t2)), p = collect(values(t2))), \n",
    "        [:p, order(:thr, rev = true)])[1,1]"
   ]
  }
 ],
 "metadata": {
  "kernelspec": {
   "display_name": "Julia 1.7.2",
   "language": "julia",
   "name": "julia-1.7"
  },
  "language_info": {
   "file_extension": ".jl",
   "mimetype": "application/julia",
   "name": "julia",
   "version": "1.7.2"
  }
 },
 "nbformat": 4,
 "nbformat_minor": 5
}
